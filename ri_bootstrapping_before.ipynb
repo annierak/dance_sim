{
 "cells": [
  {
   "cell_type": "code",
   "execution_count": 3,
   "metadata": {},
   "outputs": [],
   "source": [
    "import numpy as np\n",
    "import matplotlib.pyplot as plt\n",
    "from matplotlib.gridspec import GridSpec\n",
    "import matplotlib.patches\n",
    "from ipywidgets import interactive\n",
    "import ipywidgets as widgets\n",
    "from ipywidgets import Layout,Button,Box,VBox,Label\n",
    "import plotly as ply\n",
    "from dance_sim_tools.ipywidget_helpers import slider\n",
    "import pandas as pd\n",
    "import warnings\n",
    "warnings.filterwarnings('ignore')\n",
    "import scipy.stats\n",
    "import matplotlib.gridspec\n",
    "from mpl_toolkits.axes_grid1 import make_axes_locatable\n"
   ]
  },
  {
   "cell_type": "code",
   "execution_count": 6,
   "metadata": {},
   "outputs": [
    {
     "data": {
      "application/vnd.jupyter.widget-view+json": {
       "model_id": "96d20fa1b4d144579b07f6df0b431b94",
       "version_major": 2,
       "version_minor": 0
      },
      "text/plain": [
       "Box(children=(Box(children=(FloatSlider(value=5.0, continuous_update=False, description='m', max=10.0, min=3.0…"
      ]
     },
     "metadata": {},
     "output_type": "display_data"
    },
    {
     "data": {
      "application/vnd.jupyter.widget-view+json": {
       "model_id": "0c58cf30f91b48aab7f6e1403200f527",
       "version_major": 2,
       "version_minor": 0
      },
      "text/plain": [
       "Output()"
      ]
     },
     "metadata": {},
     "output_type": "display_data"
    }
   ],
   "source": [
    "def bootstrap_ri(m,logN,prct_val,cutoff_ind,which_fly,condition):\n",
    "    which_fly = int(which_fly)\n",
    "    m = int(m)\n",
    "    N = int(10**logN)\n",
    "    cutoff_ind = int(cutoff_ind)\n",
    "    prct_val = int(prct_val)\n",
    "    ri_filename = 'ris_before/'+'r_i_be_'+str(condition)+'.txt'    \n",
    "    empirical_ris = np.abs(np.loadtxt(ri_filename))\n",
    "    num_flies,max_ind = np.shape(empirical_ris)\n",
    "    empirical_ris[empirical_ris<0.01] = np.nan\n",
    "    empirical_ris = np.degrees(empirical_ris)*(np.pi/9)/2.4\n",
    " \n",
    "    #r_i matrix: (rows=flies,cols=reversal indices)\n",
    "    #N: number of subsample iterations\n",
    "    #For N iterations, draw m subsamples of r_i, and mean(r_1-r_0) using only the subsample\n",
    "\n",
    "    last_reversal_inds = np.sum(~np.isnan(empirical_ris),axis=1) #for each fly, the index of the last r_i\n",
    "    fly_counts_by_ind = np.sum(~np.isnan(empirical_ris),axis=0)\n",
    "    ri_sample_means = np.full((cutoff_ind,N),np.nan)\n",
    "   \n",
    "    \n",
    "    for i in range(cutoff_ind):\n",
    "        for j in range(N):\n",
    "            r_i_draw_inds = np.arange(num_flies) #this is which FLIES to draw\n",
    "            r_i_draw_inds = r_i_draw_inds[~np.isnan(empirical_ris[:,i])]\n",
    "            np.random.shuffle(r_i_draw_inds)\n",
    "            r_i_draw_inds_ss = r_i_draw_inds[:m]\n",
    "            ris_draw =  empirical_ris[r_i_draw_inds_ss,i]\n",
    "            #Compute the mean of the subsample\n",
    "            ri_sample_means[i,j] = np.nanmean(ris_draw)\n",
    "\n",
    "    #For each index\n",
    "    #compute the distribution of sample means observed (opt)\n",
    "    #or--just use prtle function to compute the prct_vals\n",
    "    #plot, as a function of index, the mean of means and the CI (prctle) \n",
    " \n",
    "    \n",
    "    means_of_means = np.mean(ri_sample_means,axis=1)\n",
    "    index_percentiles = np.percentile(ri_sample_means,[50-prct_val/2,50+prct_val/2],axis=1)\n",
    "    \n",
    "    fig = plt.figure(figsize=(12,8))\n",
    "    ax = plt.subplot()\n",
    "    plt.plot(np.arange(cutoff_ind),means_of_means,label='bootstrap mean')\n",
    "    ax.fill_between(np.arange(cutoff_ind),\n",
    "                    index_percentiles[0,:],index_percentiles[1,:],\n",
    "                        color='powderblue',alpha=0.6,label=str(prct_val)+' CI')\n",
    "    \n",
    "    x_max = 30\n",
    "    plt.ylabel('r_i')\n",
    "    plt.ylim([0,np.max(empirical_ris[~np.isnan(empirical_ris)])])\n",
    "    plt.xlim([0,x_max])\n",
    "    plt.xticks(np.linspace(0,x_max,x_max+1))\n",
    "    plt.xlabel('Index (i)')\n",
    "    plt.legend()\n",
    "    \n",
    "    inds = np.arange(0,max_ind)\n",
    "    for f in range(num_flies):\n",
    "        plt.scatter(inds,empirical_ris[f,:],alpha=0.9,color='powderblue')\n",
    "        \n",
    "    plt.plot(inds,empirical_ris[which_fly,:],color='purple',label='fly '+str(which_fly))\n",
    "    plt.legend()\n",
    "        \n",
    "    plt.figure(figsize=(12,4))\n",
    "    plt.title('Fly Count per Index')\n",
    "    plt.plot(inds,fly_counts_by_ind,'-o',color='r')\n",
    "    plt.plot(inds,m*np.ones_like(inds))\n",
    "    plt.xlim([0,x_max])\n",
    "    \n",
    "        \n",
    "\n",
    "\n",
    "#start,stop,step,init\n",
    "sm=slider('m',3,10,1,5)\n",
    "slogN= slider('logN',1,6,1,3)\n",
    "sprct_val= slider('prct_val',60,99,1,95)\n",
    "scutoff_ind= slider('cutoff_ind',5,20,1,15)\n",
    "sfly_sample = slider('which_fly',0,22,1,0)\n",
    "condition_toggle = widgets.RadioButtons(options=[('1F',1), ('2F 60',2),\n",
    "                                          ('2F 90',3)],disabled=False,description='condition')    \n",
    "\n",
    "sliders = [sm,slogN,sprct_val,scutoff_ind,sfly_sample,condition_toggle]\n",
    "           \n",
    "items = [Box([slider]) for slider in sliders]\n",
    "  \n",
    "\n",
    "ui = Box(items, layout=Layout(\n",
    "    display='flex',\n",
    "    flex_flow='column',\n",
    "    border='solid 2px',\n",
    "    align_items='stretch',\n",
    "    width='30%'\n",
    "))\n",
    "\n",
    "slider_names = [slider.description for slider in sliders]\n",
    "param_dict =  dict(zip(slider_names,sliders))\n",
    "\n",
    "\n",
    "out = widgets.interactive_output(bootstrap_ri, param_dict)\n",
    "\n",
    "\n",
    "\n",
    "display(ui,out)\n",
    "\n"
   ]
  },
  {
   "cell_type": "code",
   "execution_count": null,
   "metadata": {},
   "outputs": [],
   "source": []
  }
 ],
 "metadata": {
  "kernelspec": {
   "display_name": "dance_jupyter_env",
   "language": "python",
   "name": "dance_jupyter_env"
  },
  "language_info": {
   "codemirror_mode": {
    "name": "ipython",
    "version": 3
   },
   "file_extension": ".py",
   "mimetype": "text/x-python",
   "name": "python",
   "nbconvert_exporter": "python",
   "pygments_lexer": "ipython3",
   "version": "3.5.2"
  }
 },
 "nbformat": 4,
 "nbformat_minor": 2
}
