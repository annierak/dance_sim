{
 "cells": [
  {
   "cell_type": "code",
   "execution_count": 205,
   "metadata": {},
   "outputs": [],
   "source": [
    "import numpy as np\n",
    "import matplotlib.pyplot as plt\n",
    "from matplotlib.gridspec import GridSpec\n",
    "from ipywidgets import interactive\n",
    "import ipywidgets as widgets\n",
    "import plotly as ply"
   ]
  },
  {
   "cell_type": "code",
   "execution_count": 298,
   "metadata": {},
   "outputs": [],
   "source": [
    "class SinusoidTrace(object):\n",
    "        \n",
    "    def __init__(self,theta_0,a,omega,n_points=9000,t_start=0,t_stop=3):\n",
    "        self.t = np.linspace(t_start,t_stop,n_points)\n",
    "        envelope = a*np.exp(self.t) \n",
    "        self.theta_0 = theta_0\n",
    "        #Want this to still work when there are multiple rows (trials) of traces    \n",
    "        self.path = (np.pi/16)*np.sin((2*np.pi*omega)*self.t)*envelope+self.theta_0\n",
    "        #Then store a version of this array where the bottom is 0 and angles are degrees\n",
    "        self.path_origin_shifted_degrees = (self.path - 3*np.pi/2)*(180/np.pi)\n",
    "        self.angle_bin_size = np.pi/18 #10 degrees in radians\n",
    "\n",
    "    def find_reversal_inds(self):\n",
    "        reversal_bool = (np.abs(np.diff(self.path))<8e-5)\n",
    "        reversal_inds = np.where(reversal_bool)[0]\n",
    "        non_duplicate_inds = np.diff(np.hstack((np.array(0),reversal_inds)))>1\n",
    "        reversal_inds = reversal_inds[non_duplicate_inds]\n",
    "        #Want this to still work when there are multiple rows (trials) of traces    \n",
    "        return reversal_inds\n",
    "    \n",
    "    def reversal_loc_hist(self,shifted=False):\n",
    "        \n",
    "        reversal_inds = self.find_reversal_inds()\n",
    "        if shifted:\n",
    "            bins = np.arange(-180,180,np.degrees(self.angle_bin_size))\n",
    "            n,bins = np.histogram(self.path_origin_shifted_degrees[reversal_inds],bins=bins)\n",
    "        else:\n",
    "            bins = np.arange(0,2*np.pi,self.angle_bin_size)\n",
    "            n,bins = np.histogram(self.path[reversal_inds],bins=bins)\n",
    "        return n,bins\n",
    "    \n",
    "    def compute_transit_counts(self):\n",
    "        #input shape: (trials x timestamps) \n",
    "        #Return the binned transit counts\n",
    "        #output shape: (trials x angle bins)\n",
    "        bins = np.linspace(0,2*np.pi,self.angle_bin_size)\n",
    "        n,bins = np.histogram(self.path,bins=bins)\n",
    "        return n\n",
    "    \n",
    "    def draw_trials(num_trials):\n",
    "        #For the already inputted trace parameter values, draw a trace\n",
    "        #num_trials times (drawing noise anew each trial),\n",
    "        #and compute the transit vector for each trial\n",
    "        #to return a 2d array of draws x theta (used for heatmap)\n",
    "\n",
    "        return transits \n"
   ]
  },
  {
   "cell_type": "code",
   "execution_count": 299,
   "metadata": {},
   "outputs": [],
   "source": [
    "def slider(start,stop,step,init):#,init):\n",
    "    return widgets.FloatSlider(\n",
    "    value=init,\n",
    "    min=start,\n",
    "    max=stop,\n",
    "    step=step,\n",
    "    disabled=False,\n",
    "    continuous_update=False,\n",
    "    orientation='horizontal',\n",
    "    readout=True,\n",
    "    readout_format='.2f',\n",
    ")"
   ]
  },
  {
   "cell_type": "code",
   "execution_count": 308,
   "metadata": {
    "scrolled": false
   },
   "outputs": [
    {
     "data": {
      "application/vnd.jupyter.widget-view+json": {
       "model_id": "ab6dde3e462f4ae2bece9535b0ae8e9d",
       "version_major": 2,
       "version_minor": 0
      },
      "text/plain": [
       "interactive(children=(FloatSlider(value=4.71238898038469, continuous_update=False, description='theta_0', max=…"
      ]
     },
     "metadata": {},
     "output_type": "display_data"
    }
   ],
   "source": [
    "def f(theta_0,a,omega,t_stop,phi):\n",
    "    phi_rad = np.radians(phi)\n",
    "    sinusoidTrace = SinusoidTrace(theta_0,a,omega,t_stop=t_stop)\n",
    "    x = sinusoidTrace.t\n",
    "    y = sinusoidTrace.path\n",
    "    fig = plt.figure(1,figsize=(15,15))\n",
    "    gs = GridSpec(7,7)\n",
    "    ax1 = fig.add_subplot(gs[0:2,0:3])\n",
    "    plt.plot(x,y%(2*np.pi),'o',markersize=1)\n",
    "    \n",
    "#     #Scaffold plot: derivative of trace\n",
    "#     plt.plot(x[:-1],15*np.diff(y),'o',markersize=1)\n",
    "#     plt.figure(10)\n",
    "#     plt.hist(np.diff(y),bins=100)\n",
    "#     plt.figure(1)\n",
    "    \n",
    "    \n",
    "    #Plot cyan dots for the reversal points\n",
    "    reversal_inds = sinusoidTrace.find_reversal_inds()\n",
    "    plt.scatter(x[reversal_inds],(y%(2*np.pi))[reversal_inds],color='cyan')\n",
    "    \n",
    "    #Plot the center (origin) angle and the food angles\n",
    "    plt.plot([np.min(x),np.max(x)],[theta_0,theta_0],'g')  \n",
    "    plt.plot([np.min(x),np.max(x)],[theta_0+phi_rad,theta_0+phi_rad],'r')\n",
    "    plt.plot([np.min(x),np.max(x)],[theta_0-phi_rad,theta_0-phi_rad],'r')\n",
    "    \n",
    "    \n",
    "    ax1.set_ylim([0,2*np.pi])\n",
    "    ax1.set_aspect(1./3)\n",
    "    ax1.spines['right'].set_visible(False)\n",
    "    ax1.spines['top'].set_visible(False)\n",
    "    plt.xlabel('Time post activation period (min)')\n",
    "    plt.ylabel('Angular position (radians)')\n",
    "\n",
    "    ax2 = fig.add_subplot(gs[0:2,4:6],polar=True)\n",
    "    plt.plot(y,x)\n",
    "    plt.plot([theta_0,theta_0],[np.min(x),np.max(x)],'g')\n",
    "    plt.scatter(y[reversal_inds],x[reversal_inds],color='cyan')\n",
    "    plt.plot([theta_0+phi_rad,theta_0+phi_rad],[np.min(x),t_stop],'r')\n",
    "    plt.plot([theta_0-phi_rad,theta_0-phi_rad],[np.min(x),t_stop],'r')\n",
    "    ax2.set_ylim([0,t_stop*1.1])\n",
    "    plt.grid(False)\n",
    "    plt.yticks([])\n",
    "    \n",
    "    ax3 = fig.add_subplot(gs[3:7,1:5])\n",
    "    n,bins = sinusoidTrace.reversal_loc_hist(shifted=True)\n",
    "    plt.plot(bins[:-1],n/(np.sum(n)),'-o')\n",
    "    plt.subplots_adjust(left=0.25, bottom=0.25)\n",
    "    \n",
    "    #Plot the center (origin) angle and the food angles\n",
    "    plt.plot([0,0],[0,max(n)/np.sum(n)],'g')  \n",
    "    plt.plot([np.degrees(phi_rad),np.degrees(phi_rad)],[0,max(n)/np.sum(n)],'r')  \n",
    "    plt.plot([-np.degrees(phi_rad),-np.degrees(phi_rad)],[0,max(n)/np.sum(n)],'r')  \n",
    "    \n",
    "    plt.xlabel('Angle (deg)')\n",
    "    plt.ylabel('Proportion of Reversals')\n",
    "\n",
    "interactive(f, \n",
    "            theta_0 = slider(0,2*np.pi,0.1,3*np.pi/2),\n",
    "            a = slider(0,1,0.05,0.5),\n",
    "            omega = slider(0,5,0.05,5),\n",
    "            t_stop= slider(1,10,0.5,3.),\n",
    "            phi=slider(0,90,5,10)\n",
    "           )\n",
    "#theta_0: center of oscillation\n",
    "#a: amplitude of oscillation (scaling factor)\n",
    "#omega: frequency of oscillation (wrt time)"
   ]
  },
  {
   "cell_type": "code",
   "execution_count": null,
   "metadata": {},
   "outputs": [],
   "source": []
  },
  {
   "cell_type": "code",
   "execution_count": null,
   "metadata": {},
   "outputs": [],
   "source": []
  }
 ],
 "metadata": {
  "kernelspec": {
   "display_name": "dance_jupyter_env",
   "language": "python",
   "name": "dance_jupyter_env"
  },
  "language_info": {
   "codemirror_mode": {
    "name": "ipython",
    "version": 3
   },
   "file_extension": ".py",
   "mimetype": "text/x-python",
   "name": "python",
   "nbconvert_exporter": "python",
   "pygments_lexer": "ipython3",
   "version": "3.5.2"
  }
 },
 "nbformat": 4,
 "nbformat_minor": 2
}
