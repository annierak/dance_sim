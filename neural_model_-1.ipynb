{
 "cells": [
  {
   "cell_type": "markdown",
   "metadata": {},
   "source": [
    "We want a trace generating model which sets position over time of the fly according to the fly's (noisy) estimate of relevant variables depending on the phase:\n",
    "\n",
    "$r_0$ and $c$ are fixed inputs. Let $L_F$ be the coordinate of the last food encountered during the activation period.\n",
    "\n",
    "(0) for the first reversal ($r_0$): $r_0$ is a set input\n",
    "\n",
    "(1) for second reversal ($r_1$): the fly stores a noisy estimate of {its current position wrt $L_F$, |r_0-(dist to last reversal)|}, *and* a (case-specific) noisy representation of $c$, which are used with a threshold to determine a turnaround point (turnaround time).\n",
    "\n",
    "(2) for all following reversals $(r_2,r_3,r_4,...,r_i,...,r_n)$: the fly stores a noisy estimate of of its desired $k$, and $n$, a noisy estimate of current steps since last reversal, and stored $r_{i-1}$, and when $n>kr_{i-1}$ it reverses.\n",
    "\n",
    "To rephrase above: $r_i \\sim \\mathcal{N}(0,\\mu)$, whose variance may or may not increase with time.\n",
    "\n",
    "The variance on the estimate of the current position wrt the food, and the variance on the estimate of the current position wrt last reversal, is something that can increase as the fly's true or estimated distance increases.\n"
   ]
  },
  {
   "cell_type": "markdown",
   "metadata": {},
   "source": [
    "For a more fleshed-out set of options for (1), see below/flowchart in notebook.\n",
    "\n",
    "____\n",
    "(option A) \n",
    "\n",
    "(a) Before the fly establishes it has returned to L_F, at each point in time, store a noisy estimate of \n",
    "\n",
    "|$r_0$ - (dist to last reversal, in steps)| (=how close the fly is to having travelled $r_0$ since its last reversal),\n",
    "and a noisy estimate of $c$.\n",
    "\n",
    "The fly establishes it has returned to $L_F$ when\n",
    "\n",
    "the fly sets its location estimate to $L_F$ \n",
    "\n",
    "(<==> it sets its (dist to last reversal) estimate to $r_0$) \n",
    "\n",
    "(<==> it sets its estimate of |$r_0$ - (dist to last reversal)| to 0) \n",
    "\n",
    "(b) The fly counts $m$, the steps accumulated since returning to $L_F$, and performs the second reversal when $m>c$.\n",
    "_____\n",
    "(option B) \n",
    "\n",
    "At each point in time, store a noisy estimate of \n",
    "\n",
    "|$r_1$ - distance to last reversal (in accumulated steps)|.\n",
    "\n",
    "When this reaches 0, reverse.\n",
    "\n",
    "or\n",
    "\n",
    "At each point in time, store a noisy estimate of \n",
    "\n",
    "|distance to last reversal (in accumulated steps)|.\n",
    "\n",
    "When this reaches  $r_1$, reverse.\n",
    "\n",
    "\n",
    "\n"
   ]
  },
  {
   "cell_type": "code",
   "execution_count": null,
   "metadata": {},
   "outputs": [],
   "source": []
  },
  {
   "cell_type": "code",
   "execution_count": null,
   "metadata": {},
   "outputs": [],
   "source": []
  }
 ],
 "metadata": {
  "kernelspec": {
   "display_name": "dance_jupyter_env",
   "language": "python",
   "name": "dance_jupyter_env"
  },
  "language_info": {
   "codemirror_mode": {
    "name": "ipython",
    "version": 3
   },
   "file_extension": ".py",
   "mimetype": "text/x-python",
   "name": "python",
   "nbconvert_exporter": "python",
   "pygments_lexer": "ipython3",
   "version": "3.5.2"
  }
 },
 "nbformat": 4,
 "nbformat_minor": 2
}
