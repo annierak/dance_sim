{
 "cells": [
  {
   "cell_type": "code",
   "execution_count": 1,
   "metadata": {},
   "outputs": [],
   "source": [
    "import numpy as np\n",
    "import matplotlib.pyplot as plt\n",
    "from matplotlib.gridspec import GridSpec\n",
    "from ipywidgets import interactive\n",
    "import ipywidgets as widgets\n",
    "import plotly as ply\n",
    "from dance_sim_tools import trace_objects\n",
    "from dance_sim_tools.ipywidget_helpers import slider"
   ]
  },
  {
   "cell_type": "code",
   "execution_count": 2,
   "metadata": {
    "scrolled": false
   },
   "outputs": [
    {
     "data": {
      "application/vnd.jupyter.widget-view+json": {
       "model_id": "06fec8c95144495384610002493e6b75",
       "version_major": 2,
       "version_minor": 0
      },
      "text/plain": [
       "interactive(children=(FloatSlider(value=4.71238898038469, continuous_update=False, description='theta_0', max=…"
      ]
     },
     "metadata": {},
     "output_type": "display_data"
    }
   ],
   "source": [
    "def g(theta_0,a,omega,t_stop,num_transit_ticks):\n",
    "\n",
    "    \n",
    "    #We're plotting the relevant crossing lines for a single transit bin,\n",
    "    #the bin whose lower edge is given by theta_0.\n",
    "    \n",
    "    trace = trace_objects.ExpandingSinusoidTrace(theta_0,a,omega,t_stop=t_stop)\n",
    "    transit_tick_interval = 2*np.pi/num_transit_ticks\n",
    "    \n",
    "    x = trace.t\n",
    "    y = trace.path\n",
    "    fig = plt.figure(1,figsize=(15,15))#,dpi=200)\n",
    "    ax1 = plt.subplot()\n",
    "    plt.plot(x,y%(2*np.pi),'o',color='grey',markersize=1,zorder=1)\n",
    "    plt.rc('text', usetex=True)\n",
    "\n",
    "    \n",
    "    #Plot cyan dots for the reversal points\n",
    "    reversal_inds = trace.find_reversal_inds()\n",
    "    plt.scatter(x[reversal_inds],(y%(2*np.pi))[reversal_inds],color='k',zorder=2)\n",
    "    \n",
    "    \n",
    "    \n",
    "    #Plot the center (origin) angle and the passage ticks\n",
    "    plt.plot([np.min(x),np.max(x)],[theta_0-transit_tick_interval,theta_0-transit_tick_interval],'g',zorder=1)\n",
    "    plt.plot([np.min(x),np.max(x)],[theta_0,theta_0],'r',zorder=1)  \n",
    "    plt.plot([np.min(x),np.max(x)],[theta_0+transit_tick_interval,theta_0+transit_tick_interval],'g',zorder=1)\n",
    "    plt.plot([np.min(x),np.max(x)],[theta_0+2*transit_tick_interval,theta_0+2*transit_tick_interval],'g',zorder=1)\n",
    "    plt.axhspan(theta_0,theta_0+transit_tick_interval,color='pink',alpha=0.5)\n",
    "    ax1.text(-0.1,theta_0,r'$\\theta_0$',fontsize=20,verticalalignment='center')\n",
    "    \n",
    "    ax1.set_ylim([0,2*np.pi])\n",
    "    ax1.set_aspect(1./3)\n",
    "    ax1.spines['right'].set_visible(False)\n",
    "    ax1.spines['top'].set_visible(False)\n",
    "    plt.xlabel('Time post activation period (min)')\n",
    "    plt.ylabel('Angular position (radians)')\n",
    "    \n",
    "        #testing crossing function\n",
    "    transit_inds_upper,transit_inds_lower,cross_sign = trace.crosses_0(theta_0-transit_tick_interval,\n",
    "                            theta_0+2*transit_tick_interval)\n",
    "\n",
    "    transit_inds_upper = np.squeeze(transit_inds_upper)\n",
    "    transit_inds_lower = np.squeeze(transit_inds_lower)\n",
    "    cross_sign = np.squeeze(cross_sign)\n",
    "    \n",
    "    \n",
    "    plt.scatter(x[transit_inds_lower&(cross_sign==-1)],y[transit_inds_lower&(cross_sign==-1)],color='dodgerblue',zorder=2)\n",
    "    plt.scatter(x[transit_inds_lower&(cross_sign==1)],y[transit_inds_lower&(cross_sign==1)],color='lightskyblue',zorder=2)\n",
    "    plt.scatter(x[transit_inds_upper&(cross_sign==-1)],y[transit_inds_upper&(cross_sign==-1)],color='hotpink',zorder=2)\n",
    "    plt.scatter(x[transit_inds_upper&(cross_sign==1)],y[transit_inds_upper&(cross_sign==1)],color='pink',zorder=2)\n",
    "\n",
    "interactive(g, \n",
    "            theta_0 = slider(0,2*np.pi,0.1,3*np.pi/2),\n",
    "            a = slider(0,1,0.05,0.5),\n",
    "            omega = slider(0,8,0.05,3),\n",
    "            t_stop= slider(1,10,0.5,3.),\n",
    "            num_transit_ticks=slider(0,50,1,10)\n",
    "           )"
   ]
  },
  {
   "cell_type": "code",
   "execution_count": 3,
   "metadata": {
    "scrolled": false
   },
   "outputs": [
    {
     "data": {
      "application/vnd.jupyter.widget-view+json": {
       "model_id": "cfe7cf67d96348cbb30015a2e7f8281c",
       "version_major": 2,
       "version_minor": 0
      },
      "text/plain": [
       "interactive(children=(FloatSlider(value=4.71238898038469, continuous_update=False, description='theta_0', max=…"
      ]
     },
     "metadata": {},
     "output_type": "display_data"
    }
   ],
   "source": [
    "def g(theta_0,a,b,n,omega,t_stop,num_transit_ticks):\n",
    "\n",
    "    \n",
    "    #We're plotting the relevant crossing lines for a single transit bin,\n",
    "    #the bin whose lower edge is given by theta_0.\n",
    "    \n",
    "    trace = trace_objects.TwoFreqSinusoidTrace(theta_0,a,b,n,omega,t_stop=t_stop)\n",
    "    transit_tick_interval = 2*np.pi/num_transit_ticks\n",
    "    \n",
    "    x = trace.t\n",
    "    y = trace.path\n",
    "    fig = plt.figure(1,figsize=(15,15))#,dpi=200)\n",
    "    ax1 = plt.subplot()\n",
    "    plt.plot(x,y%(2*np.pi),'o',color='grey',markersize=1,zorder=1)\n",
    "    plt.rc('text', usetex=True)\n",
    "\n",
    "    \n",
    "    #Plot cyan dots for the reversal points\n",
    "    reversal_inds = trace.find_reversal_inds()\n",
    "    plt.scatter(x[reversal_inds],(y%(2*np.pi))[reversal_inds],color='k',zorder=2)\n",
    "    \n",
    "    \n",
    "    \n",
    "    #Plot the center (origin) angle and the passage ticks\n",
    "    plt.plot([np.min(x),np.max(x)],[theta_0-transit_tick_interval,theta_0-transit_tick_interval],'g',zorder=1)\n",
    "    plt.plot([np.min(x),np.max(x)],[theta_0,theta_0],'r',zorder=1)  \n",
    "    plt.plot([np.min(x),np.max(x)],[theta_0+transit_tick_interval,theta_0+transit_tick_interval],'g',zorder=1)\n",
    "    plt.plot([np.min(x),np.max(x)],[theta_0+2*transit_tick_interval,theta_0+2*transit_tick_interval],'g',zorder=1)\n",
    "    plt.axhspan(theta_0,theta_0+transit_tick_interval,color='pink',alpha=0.5)\n",
    "    ax1.text(-0.1,theta_0,r'$\\theta_0$',fontsize=20,verticalalignment='center')\n",
    "    \n",
    "    ax1.set_ylim([0,2*np.pi])\n",
    "    ax1.set_aspect(1./3)\n",
    "    ax1.spines['right'].set_visible(False)\n",
    "    ax1.spines['top'].set_visible(False)\n",
    "    plt.xlabel('Time post activation period (min)')\n",
    "    plt.ylabel('Angular position (radians)')\n",
    "    \n",
    "        #testing crossing function\n",
    "    transit_inds_upper,transit_inds_lower,cross_sign = trace.crosses_0(theta_0-transit_tick_interval,\n",
    "                            theta_0+2*transit_tick_interval)\n",
    "\n",
    "    transit_inds_upper = np.squeeze(transit_inds_upper)\n",
    "    transit_inds_lower = np.squeeze(transit_inds_lower)\n",
    "    cross_sign = np.squeeze(cross_sign)\n",
    "    \n",
    "    \n",
    "    plt.scatter(x[transit_inds_lower&(cross_sign==-1)],y[transit_inds_lower&(cross_sign==-1)],color='dodgerblue',zorder=2)\n",
    "    plt.scatter(x[transit_inds_lower&(cross_sign==1)],y[transit_inds_lower&(cross_sign==1)],color='lightskyblue',zorder=2)\n",
    "    plt.scatter(x[transit_inds_upper&(cross_sign==-1)],y[transit_inds_upper&(cross_sign==-1)],color='hotpink',zorder=2)\n",
    "    plt.scatter(x[transit_inds_upper&(cross_sign==1)],y[transit_inds_upper&(cross_sign==1)],color='pink',zorder=2)\n",
    "\n",
    "interactive(g, \n",
    "            theta_0 = slider(0,2*np.pi,0.1,3*np.pi/2),\n",
    "            a = slider(0,3,0.05,1),\n",
    "            b = slider(0,1,0.05,0.2),\n",
    "            n = slider(1,100,1,15),\n",
    "            omega = slider(0,4,0.05,2),\n",
    "            t_stop= slider(1,10,0.5,3.),\n",
    "            num_transit_ticks=slider(0,50,1,20)\n",
    "           )"
   ]
  },
  {
   "cell_type": "code",
   "execution_count": 4,
   "metadata": {},
   "outputs": [
    {
     "data": {
      "application/vnd.jupyter.widget-view+json": {
       "model_id": "c64ea28223644f318462b719aca4c494",
       "version_major": 2,
       "version_minor": 0
      },
      "text/plain": [
       "interactive(children=(FloatSlider(value=4.71238898038469, continuous_update=False, description='theta_0', max=…"
      ]
     },
     "metadata": {},
     "output_type": "display_data"
    }
   ],
   "source": [
    "def g(theta_0,a,b,n,omega,t_stop,num_transit_ticks):\n",
    "\n",
    "    \n",
    "    #We're plotting the relevant crossing lines for a single transit bin,\n",
    "    #the bin whose lower edge is given by theta_0.\n",
    "    \n",
    "    trace = trace_objects.SinPlusSquareWave(theta_0,a,b,n,omega,t_stop=t_stop)\n",
    "    transit_tick_interval = 2*np.pi/num_transit_ticks\n",
    "    \n",
    "    x = trace.t\n",
    "    y = trace.path\n",
    "    fig = plt.figure(1,figsize=(15,15))#,dpi=200)\n",
    "    ax1 = plt.subplot()\n",
    "    plt.plot(x,y%(2*np.pi),'o',color='grey',markersize=1,zorder=1)\n",
    "    plt.rc('text', usetex=True)\n",
    "\n",
    "    \n",
    "    #Plot cyan dots for the reversal points\n",
    "    reversal_inds = trace.find_reversal_inds()\n",
    "    plt.scatter(x[reversal_inds],(y%(2*np.pi))[reversal_inds],color='k',zorder=2)\n",
    "    \n",
    "    \n",
    "    \n",
    "    #Plot the center (origin) angle and the passage ticks\n",
    "    plt.plot([np.min(x),np.max(x)],[theta_0-transit_tick_interval,theta_0-transit_tick_interval],'g',zorder=1)\n",
    "    plt.plot([np.min(x),np.max(x)],[theta_0,theta_0],'r',zorder=1)  \n",
    "    plt.plot([np.min(x),np.max(x)],[theta_0+transit_tick_interval,theta_0+transit_tick_interval],'g',zorder=1)\n",
    "    plt.plot([np.min(x),np.max(x)],[theta_0+2*transit_tick_interval,theta_0+2*transit_tick_interval],'g',zorder=1)\n",
    "    plt.axhspan(theta_0,theta_0+transit_tick_interval,color='pink',alpha=0.5)\n",
    "    ax1.text(-0.1,theta_0,r'$\\theta_0$',fontsize=20,verticalalignment='center')\n",
    "    \n",
    "    ax1.set_ylim([0,2*np.pi])\n",
    "    ax1.set_aspect(1./3)\n",
    "    ax1.spines['right'].set_visible(False)\n",
    "    ax1.spines['top'].set_visible(False)\n",
    "    plt.xlabel('Time post activation period (min)')\n",
    "    plt.ylabel('Angular position (radians)')\n",
    "    \n",
    "        #testing crossing function\n",
    "    transit_inds_upper,transit_inds_lower,cross_sign = trace.crosses_0(theta_0-transit_tick_interval,\n",
    "                            theta_0+2*transit_tick_interval)\n",
    "    \n",
    "    transit_inds_upper = np.squeeze(transit_inds_upper)\n",
    "    transit_inds_lower = np.squeeze(transit_inds_lower)\n",
    "    cross_sign = np.squeeze(cross_sign)\n",
    "    \n",
    "\n",
    "    plt.scatter(x[transit_inds_lower&(cross_sign==-1)],y[transit_inds_lower&(cross_sign==-1)],color='dodgerblue',zorder=2)\n",
    "    plt.scatter(x[transit_inds_lower&(cross_sign==1)],y[transit_inds_lower&(cross_sign==1)],color='lightskyblue',zorder=2)\n",
    "    plt.scatter(x[transit_inds_upper&(cross_sign==-1)],y[transit_inds_upper&(cross_sign==-1)],color='hotpink',zorder=2)\n",
    "    plt.scatter(x[transit_inds_upper&(cross_sign==1)],y[transit_inds_upper&(cross_sign==1)],color='pink',zorder=2)\n",
    "\n",
    "interactive(g, \n",
    "            theta_0 = slider(0,2*np.pi,0.1,3*np.pi/2),\n",
    "            a = slider(0,3,0.05,1),\n",
    "            b = slider(0,1,0.05,0.2),\n",
    "            n = slider(1,100,1,15),\n",
    "            omega = slider(0,4,0.05,2),\n",
    "            t_stop= slider(1,10,0.5,3.),\n",
    "            num_transit_ticks=slider(0,50,1,20)\n",
    "           )"
   ]
  },
  {
   "cell_type": "code",
   "execution_count": 7,
   "metadata": {
    "scrolled": false
   },
   "outputs": [
    {
     "data": {
      "application/vnd.jupyter.widget-view+json": {
       "model_id": "f114eb650ce5497e954a1908d3c0bbc7",
       "version_major": 2,
       "version_minor": 0
      },
      "text/plain": [
       "interactive(children=(FloatSlider(value=3.141592653589793, continuous_update=False, description='theta_0', max…"
      ]
     },
     "metadata": {},
     "output_type": "display_data"
    }
   ],
   "source": [
    "def g(theta_0,a,b,n,omega,t_stop,num_transit_ticks):\n",
    "\n",
    "    \n",
    "    #We're plotting the relevant crossing lines for a single transit bin,\n",
    "    #the bin whose lower edge is given by theta_0.\n",
    "    \n",
    "    trace = trace_objects.SinPlusSquareWave(theta_0,a,b,n,omega,num_transit_ticks=num_transit_ticks,t_stop=t_stop)\n",
    "    transit_tick_interval = 2*np.pi/num_transit_ticks\n",
    "    \n",
    "    x = trace.t\n",
    "    y = trace.path\n",
    "    fig = plt.figure(1,figsize=(15,7))#,dpi=200)\n",
    "    ax1 = plt.subplot(121)\n",
    "    plt.plot(x,y%(2*np.pi),'o',color='grey',markersize=1,zorder=1)\n",
    "    plt.rc('text', usetex=True)\n",
    "    plt.ylim([0,2*np.pi])\n",
    "\n",
    "    #Plot the transit bins as horizontal lines\n",
    "    \n",
    "    left_dots = np.vstack((np.zeros(int(num_transit_ticks)),np.linspace(0,2*np.pi-(2*np.pi/num_transit_ticks),int(num_transit_ticks))))\n",
    "    right_dots = np.vstack((t_stop*np.ones(int(num_transit_ticks)),np.linspace(0,2*np.pi-(2*np.pi/num_transit_ticks),int(num_transit_ticks))))\n",
    "    #shape outer_dots is (2,num_spots)\n",
    "\n",
    "    whole = np.stack((left_dots,right_dots))\n",
    "\n",
    "    plt.plot(whole[:,0,:],whole[:,1,:],color='powderblue');\n",
    "    \n",
    "    \n",
    "    \n",
    "    #Plot cyan dots for the reversal points\n",
    "    reversal_inds = trace.find_reversal_inds()\n",
    "    plt.scatter(x[reversal_inds],(y%(2*np.pi))[reversal_inds],color='k',zorder=2)\n",
    "    \n",
    "    upward_crossings,downward_crossings =  trace.official_crosses()\n",
    "    \n",
    "    ax2 = plt.subplot(122)\n",
    "    y = np.linspace(0,2*np.pi-(2*np.pi/num_transit_ticks),int(num_transit_ticks))\n",
    "    print(upward_crossings)\n",
    "    print(y[upward_crossings>0])\n",
    "    print(2*np.pi/num_transit_ticks)\n",
    "    ax2.barh(y,upward_crossings,height=(2*np.pi/num_transit_ticks),align='edge',alpha=0.5)\n",
    "    ax2.barh(y,downward_crossings,height=(2*np.pi/num_transit_ticks),align='edge',alpha=0.5)\n",
    "    plt.ylim([0,2*np.pi])\n",
    "    plt.plot(whole[:,0,:],whole[:,1,:],color='powderblue');\n",
    "  \n",
    "    \n",
    "interactive(g, \n",
    "            theta_0 = slider(0,2*np.pi,0.1,np.pi),\n",
    "            a = slider(0,3,0.05,1.5),\n",
    "            b = slider(0,1,0.05,0.8),\n",
    "            n = slider(1,100,1,12),\n",
    "            omega = slider(0,4,0.05,0.5),\n",
    "            t_stop= slider(1,10,0.5,3.),\n",
    "            num_transit_ticks=slider(0,50,1,10)\n",
    "           )"
   ]
  },
  {
   "cell_type": "code",
   "execution_count": 6,
   "metadata": {
    "scrolled": false
   },
   "outputs": [
    {
     "data": {
      "application/vnd.jupyter.widget-view+json": {
       "model_id": "6b7b5a61532042b0886d3007fb0c8a1d",
       "version_major": 2,
       "version_minor": 0
      },
      "text/plain": [
       "interactive(children=(FloatSlider(value=2.0943951023931953, continuous_update=False, description='theta_0', ma…"
      ]
     },
     "metadata": {},
     "output_type": "display_data"
    }
   ],
   "source": [
    "def g(theta_0,a,omega,t_stop,num_transit_ticks):\n",
    "\n",
    "    \n",
    "    #We're plotting the relevant crossing lines for a single transit bin,\n",
    "    #the bin whose lower edge is given by theta_0.\n",
    "    \n",
    "    trace = trace_objects.ExpandingSinusoidTrace(theta_0,a,omega,t_stop=t_stop,num_transit_ticks=num_transit_ticks)\n",
    "    transit_tick_interval = 2*np.pi/num_transit_ticks\n",
    "    \n",
    "    x = trace.t\n",
    "    y = trace.path\n",
    "      \n",
    "    fig = plt.figure(1,figsize=(15,7))#,dpi=200)\n",
    "    ax1 = plt.subplot(121)\n",
    "   \n",
    "\n",
    "    plt.plot(x,y%(2*np.pi),'o',color='grey',markersize=1,zorder=1)\n",
    "    plt.rc('text', usetex=True)\n",
    "\n",
    "    \n",
    "    #Plot cyan dots for the reversal points\n",
    "    reversal_inds = trace.find_reversal_inds()\n",
    "    plt.scatter(x[reversal_inds],(y%(2*np.pi))[reversal_inds],color='k',zorder=2)\n",
    "    \n",
    "    demo_bin = 3\n",
    "    \n",
    "    #testing crossing function\n",
    "    demo_cross_angle = demo_bin*(2*np.pi/num_transit_ticks)\n",
    "    transit_inds_upper,transit_inds_lower,cross_sign = trace.crosses_0(demo_cross_angle-transit_tick_interval,\n",
    "                            demo_cross_angle+2*transit_tick_interval)\n",
    "\n",
    "    transit_inds_upper = np.squeeze(transit_inds_upper)\n",
    "    transit_inds_lower = np.squeeze(transit_inds_lower)\n",
    "    cross_sign = np.squeeze(cross_sign)\n",
    "    \n",
    "    \n",
    "    plt.scatter(x[transit_inds_lower&(cross_sign==-1)],y[transit_inds_lower&(cross_sign==-1)],color='dodgerblue',zorder=2)\n",
    "    plt.scatter(x[transit_inds_lower&(cross_sign==1)],y[transit_inds_lower&(cross_sign==1)],color='lightskyblue',zorder=2)\n",
    "    plt.scatter(x[transit_inds_upper&(cross_sign==-1)],y[transit_inds_upper&(cross_sign==-1)],color='hotpink',zorder=2)\n",
    "    plt.scatter(x[transit_inds_upper&(cross_sign==1)],y[transit_inds_upper&(cross_sign==1)],color='pink',zorder=2)\n",
    "\n",
    "    left_dots = np.vstack((np.zeros(int(num_transit_ticks)),np.linspace(0,2*np.pi-(2*np.pi/num_transit_ticks),int(num_transit_ticks))))\n",
    "    right_dots = np.vstack((t_stop*np.ones(int(num_transit_ticks)),np.linspace(0,2*np.pi-(2*np.pi/num_transit_ticks),int(num_transit_ticks))))\n",
    "    #shape outer_dots is (2,num_spots)\n",
    "\n",
    "    whole = np.stack((left_dots,right_dots))\n",
    "\n",
    "    plt.plot(whole[:,0,:],whole[:,1,:],color='powderblue');\n",
    "    plt.ylim([0,2*np.pi])\n",
    "    \n",
    "    plt.plot([np.min(x),np.max(x)],[demo_cross_angle+2*transit_tick_interval,demo_cross_angle+2*transit_tick_interval],'g',zorder=1)\n",
    "    plt.plot([np.min(x),np.max(x)],[demo_cross_angle+1*transit_tick_interval,demo_cross_angle+1*transit_tick_interval],'g',zorder=1)\n",
    "    plt.plot([np.min(x),np.max(x)],[demo_cross_angle,demo_cross_angle],'g',zorder=1)\n",
    "    plt.plot([np.min(x),np.max(x)],[demo_cross_angle-transit_tick_interval,demo_cross_angle-transit_tick_interval],'g',zorder=1)\n",
    "    plt.axhspan(demo_cross_angle,demo_cross_angle+transit_tick_interval,color='pink',alpha=0.5)\n",
    "    \n",
    "    #Plot cyan dots for the reversal points\n",
    "    reversal_inds = trace.find_reversal_inds()\n",
    "    plt.scatter(x[reversal_inds],(y%(2*np.pi))[reversal_inds],color='k',zorder=2)\n",
    "    \n",
    "    upward_crossings,downward_crossings =  trace.official_crosses(demo_bin=3)\n",
    "    \n",
    "    ax2 = plt.subplot(122)\n",
    "    y = np.linspace(0,2*np.pi-(2*np.pi/num_transit_ticks),int(num_transit_ticks))\n",
    "    ax2.barh(y,upward_crossings,height=(2*np.pi/num_transit_ticks),align='edge',alpha=0.5,color='r',\n",
    "             label='upward')\n",
    "    ax2.barh(y,downward_crossings,height=(2*np.pi/num_transit_ticks),align='edge',alpha=0.5,color='b',\n",
    "             label='downward')\n",
    "    plt.ylim([0,2*np.pi])\n",
    "    plt.plot(whole[:,0,:],whole[:,1,:],color='powderblue')\n",
    "    plt.legend()\n",
    "    \n",
    "    \n",
    "interactive(g, \n",
    "            theta_0 = slider(0,2*np.pi,0.1,np.radians(120)),\n",
    "            a = slider(0,1,0.05,0.5),\n",
    "            omega = slider(0,8,0.05,3),\n",
    "            t_stop= slider(1,10,0.5,3.),\n",
    "            num_transit_ticks=slider(0,50,1,10)\n",
    "           )"
   ]
  },
  {
   "cell_type": "code",
   "execution_count": null,
   "metadata": {},
   "outputs": [],
   "source": []
  }
 ],
 "metadata": {
  "kernelspec": {
   "display_name": "dance_jupyter_env",
   "language": "python",
   "name": "dance_jupyter_env"
  },
  "language_info": {
   "codemirror_mode": {
    "name": "ipython",
    "version": 3
   },
   "file_extension": ".py",
   "mimetype": "text/x-python",
   "name": "python",
   "nbconvert_exporter": "python",
   "pygments_lexer": "ipython3",
   "version": "3.5.2"
  }
 },
 "nbformat": 4,
 "nbformat_minor": 2
}
