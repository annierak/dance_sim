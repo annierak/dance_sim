{
 "cells": [
  {
   "cell_type": "code",
   "execution_count": 1,
   "metadata": {},
   "outputs": [],
   "source": [
    "import numpy as np\n",
    "import matplotlib.pyplot as plt\n",
    "from matplotlib.gridspec import GridSpec\n",
    "import matplotlib.patches\n",
    "from ipywidgets import interactive\n",
    "import ipywidgets as widgets\n",
    "from ipywidgets import Layout, Button, Box, VBox,Label\n",
    "import plotly as ply\n",
    "from dance_sim_tools import trace_objects,utility\n",
    "from dance_sim_tools.utility import histogram_draw_to_parameters as htp\n",
    "from dance_sim_tools.utility import draw_reversal_distances_tm\n",
    "from dance_sim_tools.ipywidget_helpers import slider,intslider\n",
    "import pandas as pd\n",
    "import dance_sim_tools.trace_objects as trace_objects\n",
    "import warnings\n",
    "warnings.filterwarnings('ignore')\n",
    "import scipy.stats\n",
    "import matplotlib.gridspec"
   ]
  },
  {
   "cell_type": "markdown",
   "metadata": {},
   "source": [
    "Figure "
   ]
  }
 ],
 "metadata": {
  "kernelspec": {
   "display_name": "dance_jupyter_env",
   "language": "python",
   "name": "dance_jupyter_env"
  },
  "language_info": {
   "codemirror_mode": {
    "name": "ipython",
    "version": 3
   },
   "file_extension": ".py",
   "mimetype": "text/x-python",
   "name": "python",
   "nbconvert_exporter": "python",
   "pygments_lexer": "ipython3",
   "version": "3.5.2"
  }
 },
 "nbformat": 4,
 "nbformat_minor": 2
}
