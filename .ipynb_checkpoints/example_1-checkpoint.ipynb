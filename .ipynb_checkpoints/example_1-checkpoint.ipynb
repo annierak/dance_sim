{
 "cells": [
  {
   "cell_type": "code",
   "execution_count": 67,
   "metadata": {},
   "outputs": [],
   "source": [
    "import numpy as np\n",
    "import matplotlib.pyplot as plt\n",
    "from matplotlib.gridspec import GridSpec\n",
    "from ipywidgets import interactive\n",
    "import ipywidgets as widgets\n",
    "import plotly as ply"
   ]
  },
  {
   "cell_type": "code",
   "execution_count": 68,
   "metadata": {},
   "outputs": [],
   "source": [
    "def slider(start,stop,step,init):#,init):\n",
    "    return widgets.FloatSlider(\n",
    "    value=init,\n",
    "    min=start,\n",
    "    max=stop,\n",
    "    step=step,\n",
    "    disabled=False,\n",
    "    continuous_update=False,\n",
    "    orientation='horizontal',\n",
    "    readout=True,\n",
    "    readout_format='.2f',\n",
    ")"
   ]
  },
  {
   "cell_type": "code",
   "execution_count": 75,
   "metadata": {},
   "outputs": [
    {
     "data": {
      "application/vnd.jupyter.widget-view+json": {
       "model_id": "9f8537a656e64c6e9d6cbacad53fd4b9",
       "version_major": 2,
       "version_minor": 0
      },
      "text/plain": [
       "interactive(children=(FloatSlider(value=4.71238898038469, continuous_update=False, description='theta_0', max=…"
      ]
     },
     "metadata": {},
     "output_type": "display_data"
    }
   ],
   "source": [
    "def f(theta_0,a,c):\n",
    "    x = np.linspace(0,3,3000)\n",
    "    # y = (np.pi/16)*np.sin(30*x)*(x**2)-np.pi/2\n",
    "    # y = (np.pi/16)*np.sin(30*x)*(np.log((x+1)))-np.pi/2\n",
    "    y = a*(np.pi/16)*np.sin(30*x)*(np.exp(x))+theta_0\n",
    "    fig = plt.figure(figsize=(15,15))\n",
    "    gs = GridSpec(2,7)\n",
    "    ax1 = fig.add_subplot(gs[0,0:3])\n",
    "    plt.plot(x,y%(2*np.pi),'o',markersize=1)\n",
    "    ax1.set_aspect(1./3)\n",
    "    ax1.spines['right'].set_visible(False)\n",
    "    ax1.spines['top'].set_visible(False)\n",
    "    plt.xlabel('Time post activation period (min)')\n",
    "    plt.ylabel('Angular position (radians)')\n",
    "    ax2 = fig.add_subplot(gs[0,4:6],polar=True)\n",
    "    plt.plot(y,x)\n",
    "    plt.grid(False)\n",
    "    plt.yticks([])\n",
    "\n",
    "interactive(f, \n",
    "            theta_0 = slider(0,2*np.pi,0.1,3*np.pi/2),\n",
    "            b = slider(0,1,0.05,0),\n",
    "            c = slider(0,1,0.05,1))"
   ]
  },
  {
   "cell_type": "code",
   "execution_count": null,
   "metadata": {},
   "outputs": [],
   "source": []
  }
 ],
 "metadata": {
  "kernelspec": {
   "display_name": "dance_jupyter_env",
   "language": "python",
   "name": "dance_jupyter_env"
  },
  "language_info": {
   "codemirror_mode": {
    "name": "ipython",
    "version": 3
   },
   "file_extension": ".py",
   "mimetype": "text/x-python",
   "name": "python",
   "nbconvert_exporter": "python",
   "pygments_lexer": "ipython3",
   "version": "3.5.2"
  }
 },
 "nbformat": 4,
 "nbformat_minor": 2
}
