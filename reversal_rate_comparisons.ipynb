{
 "cells": [
  {
   "cell_type": "markdown",
   "metadata": {},
   "source": [
    "Here, we plot the time-varying reversal rates in the pre-activation and the post activation periods.\n",
    "We can also plot the reversal events/rates as a function of distance travelled."
   ]
  },
  {
   "cell_type": "code",
   "execution_count": 7,
   "metadata": {},
   "outputs": [],
   "source": [
    "import numpy as np\n",
    "import matplotlib.pyplot as plt\n",
    "from matplotlib.gridspec import GridSpec\n",
    "import matplotlib.patches\n",
    "from ipywidgets import interactive\n",
    "import ipywidgets as widgets\n",
    "from ipywidgets import Layout,Button,Box,VBox,Label\n",
    "import plotly as ply\n",
    "from dance_sim_tools.ipywidget_helpers import slider,intslider\n",
    "import pandas as pd\n",
    "import warnings\n",
    "warnings.filterwarnings('ignore')\n",
    "import scipy.stats\n",
    "import matplotlib.gridspec\n",
    "from mpl_toolkits.axes_grid1 import make_axes_locatable\n"
   ]
  },
  {
   "cell_type": "code",
   "execution_count": 12,
   "metadata": {},
   "outputs": [],
   "source": [
    "def rads_to_bls(theta):\n",
    "    return np.degrees(theta)*(np.pi/9)/2.4\n",
    "def degs_to_bls(theta):\n",
    "    return theta*(np.pi/9)/2.4\n",
    "trials_per_cond = [23,21,26]\n",
    "cond_strs = ['1LED','2LED60','2LED90']\n",
    "max_reversal_count = 50\n",
    "after_fly_inds = [[1,2,3,4,6,7,9,11,12,14,15,17,18,19,20,21,22,23],\n",
    "    list(range(1,22)),\n",
    "    [1,2,3,4,6,8,10,11,13,15,16,17,18,19,20,22,23,24,25,26]]\n",
    "max_fly_count = max(max(after_fly_inds))"
   ]
  },
  {
   "cell_type": "code",
   "execution_count": 17,
   "metadata": {},
   "outputs": [
    {
     "data": {
      "application/vnd.jupyter.widget-view+json": {
       "model_id": "dfc6cd5dc79740ae8d154d7de047cfa2",
       "version_major": 2,
       "version_minor": 0
      },
      "text/plain": [
       "Box(children=(Box(children=(RadioButtons(description='condition', options=(('1F', 1), ('2F 60', 2), ('2F 90', …"
      ]
     },
     "metadata": {},
     "output_type": "display_data"
    },
    {
     "data": {
      "application/vnd.jupyter.widget-view+json": {
       "model_id": "0e2c530fa7bc44d6997ccc3e34e8187f",
       "version_major": 2,
       "version_minor": 0
      },
      "text/plain": [
       "Output()"
      ]
     },
     "metadata": {},
     "output_type": "display_data"
    }
   ],
   "source": [
    "def reversal_raster_by_time(condition):\n",
    " \n",
    "    #Start a matrix that will host reversal times for all flies for the condition\n",
    "    bef_rev_times_cond = np.full((max_fly_count,max_reversal_count),0.)\n",
    "    af_rev_times_cond = np.full((max_fly_count,max_reversal_count),0.)\n",
    "    \n",
    "    \n",
    "    #Collect the reversal times for each fly into this matrix\n",
    "    num_flies = trials_per_cond[condition-1]\n",
    "    \n",
    "    before_flies = list(range(num_flies))\n",
    "    after_flies = after_fly_inds[condition-1]\n",
    "    \n",
    "    for fly in before_flies:\n",
    "        bef_revs_filename = 'rev_data_be/'+'RE_t_be_'+str(condition)+'_'+str(fly+1)+'.txt'\n",
    "        bef_revs = np.loadtxt(bef_revs_filename)\n",
    "        bef_rev_times_cond[fly,:len(bef_revs)] =bef_revs\n",
    "    for fly in after_flies:\n",
    "        af_revs_filename = 'rev_data_af/'+'RE_t_af1_'+str(condition)+'_'+str(fly)+'.txt'\n",
    "        af_revs = np.loadtxt(af_revs_filename)\n",
    "        af_rev_times_cond[fly-1,:len(af_revs)] = af_revs\n",
    "    \n",
    "    cond_fly_count = max(max(before_flies),max(after_flies))\n",
    "    \n",
    "    before_flies_bool = np.zeros(cond_fly_count).astype(bool)\n",
    "    after_flies_bool = np.zeros(cond_fly_count).astype(bool)\n",
    "    before_flies_bool[before_flies] = True\n",
    "    after_flies_bool[np.array(after_flies)-1] = True\n",
    "    \n",
    "    intersecting_flies_inds = np.arange(1,max_fly_count+1)\n",
    "    \n",
    "    plt.figure(figsize=(12,4))\n",
    "    \n",
    "    ax = plt.subplot(121)\n",
    "    plt.title('Pre-Activation Reversals')\n",
    "    plt.xlim([0,10])\n",
    "    color = 'black'\n",
    "    lineoffsets = intersecting_flies_inds\n",
    "    linelengths = np.ones_like(intersecting_flies_inds)        \n",
    "    \n",
    "    #Eventplot is annoying and doesn't respect empty rows.\n",
    "    #To fix this, put a nonzero value in each empty row,\n",
    "    #but set the linelengths for those rows to 0.\n",
    "    empty_flies_bef = np.where(np.logical_not(before_flies_bool))[0]\n",
    "    bef_rev_times_cond[empty_flies_bef,1] = 1\n",
    "    linelengths[empty_flies_bef] = np.exp(-10)\n",
    "    ax.eventplot(bef_rev_times_cond, color=color, lineoffsets=lineoffsets,\n",
    "                    linelengths=linelengths)\n",
    "    plt.ylim([26.5,0.5])\n",
    "    plt.xlabel('Time (min)')\n",
    "    \n",
    "    \n",
    "    \n",
    "    ax = plt.subplot(122)\n",
    "    plt.title('Post-Activation Reversals')\n",
    "    plt.xlim([50,60])\n",
    "    color = 'black'\n",
    "    lineoffsets = intersecting_flies_inds\n",
    "    linelengths = np.ones_like(intersecting_flies_inds)          \n",
    "    #Eventplot is annoying and doesn't respect empty rows.\n",
    "    #To fix this, put a nonzero value in each empty row,\n",
    "    #but set the linelengths for those rows to 0.\n",
    "    empty_flies_af = np.where(np.logical_not(after_flies_bool))[0]\n",
    "    af_rev_times_cond[empty_flies_af,1] = 1\n",
    "    linelengths[empty_flies_af] = np.exp(-10)\n",
    "\n",
    "    \n",
    "    ax.eventplot(af_rev_times_cond, colors=color, lineoffsets=lineoffsets,\n",
    "                    linelengths=linelengths)\n",
    "    plt.ylim([26.5,0.5])\n",
    "    plt.xlabel('Time (min)')\n",
    "    \n",
    "    plt.show()\n",
    "    \n",
    "    \n",
    "    \n",
    "#start,stop,step,init\n",
    "# sm=intslider('m',3,10,1,5)\n",
    "#sfly_sample = intslider('which_fly',0,22,1,0)\n",
    "condition_toggle = widgets.RadioButtons(options=[('1F',1), ('2F 60',2),\n",
    "                                          ('2F 90',3)],disabled=False,description='condition')    \n",
    "sliders = [condition_toggle]#,sfly_sample,m]           \n",
    "items = [Box([slider]) for slider in sliders]\n",
    "\n",
    "ui = Box(items, layout=Layout(\n",
    "    display='flex',\n",
    "    flex_flow='row',\n",
    "    border='solid 2px',\n",
    "    align_items='stretch',\n",
    "    width='60%'\n",
    "))\n",
    "\n",
    "slider_names = [slider.description for slider in sliders]\n",
    "param_dict =  dict(zip(slider_names,sliders))\n",
    "\n",
    "\n",
    "out = widgets.interactive_output(reversal_raster_by_time, param_dict)\n",
    "\n",
    "\n",
    "\n",
    "display(ui,out)\n",
    "\n"
   ]
  },
  {
   "cell_type": "markdown",
   "metadata": {},
   "source": [
    "Now, let's make the same raster plot, except instead of time on the x-axis, have cumulated distance.\n"
   ]
  },
  {
   "cell_type": "code",
   "execution_count": 6,
   "metadata": {
    "code_folding": [
     0,
     17
    ]
   },
   "outputs": [
    {
     "data": {
      "image/png": "[encoded data removed]",
      "text/plain": [
       "<Figure size 864x288 with 4 Axes>"
      ]
     },
     "metadata": {
      "needs_background": "light"
     },
     "output_type": "display_data"
    },
    {
     "data": {
      "text/plain": [
       "array([ 53.7500714 ,  82.26345971, 116.19487805])"
      ]
     },
     "execution_count": 6,
     "metadata": {},
     "output_type": "execute_result"
    }
   ],
   "source": [
    "def cumulated_distance_pre(fly_id,condition,ts,display=False):\n",
    "    \n",
    "    #First pull up the theta vector for the relevant fly and condition\n",
    "    bef_theta_filename = 'rev_data_be/'+'theta_be_'+str(condition)+'_'+str(fly_id)+'.txt'\n",
    "    bef_theta = np.loadtxt(bef_theta_filename)\n",
    "\n",
    "    bef_t_filename = 'rev_data_be/'+'t_be_'+str(condition)+'_'+str(fly_id)+'.txt'\n",
    "    bef_t = np.loadtxt(bef_t_filename)\n",
    " #     plt.figure(3)\n",
    "#     plt.plot(bef_t,np.arange(0,10,dt))\n",
    "    \n",
    "    #Compute vector of absolute value of delta thetas\n",
    "    delta_theta = np.gradient(bef_theta)\n",
    "    delta_theta[np.abs(delta_theta)>1.] = 0.\n",
    "    abs_delta_theta = np.abs(delta_theta)\n",
    "    cum_distance = np.cumsum(abs_delta_theta)\n",
    "    \n",
    "    if display:\n",
    "    \n",
    "        plt.figure(figsize=(12,4))\n",
    "        plt.subplot(411)\n",
    "        plt.plot(bef_t,bef_theta)\n",
    "\n",
    "        plt.subplot(412)\n",
    "        plt.plot(bef_t,delta_theta)\n",
    "        \n",
    "        plt.subplot(413)\n",
    "        plt.plot(bef_t,abs_delta_theta)\n",
    "        \n",
    "        plt.subplot(414)\n",
    "        plt.plot(bef_t,cum_distance)\n",
    "        \n",
    "        plt.show()\n",
    "        \n",
    "    \n",
    "    t_inds = [np.argmin(np.abs(bef_t - t)) for t in ts]\n",
    "    \n",
    "    return cum_distance[t_inds]\n",
    "    \n",
    "    \n",
    "    #Select the index corresponding to the inputted t and sum abs_delta_theta up to that index\n",
    "\n",
    "#     return cum_distance\n",
    "\n",
    "#demonstrate how this function computes the cumulated distance \n",
    "cumulated_distance_pre(15,2,[3.2,5.3,7.1],display=True)"
   ]
  },
  {
   "cell_type": "code",
   "execution_count": 93,
   "metadata": {},
   "outputs": [
    {
     "data": {
      "application/vnd.jupyter.widget-view+json": {
       "model_id": "7204ac222dbf4acd80802e90ead23f42",
       "version_major": 2,
       "version_minor": 0
      },
      "text/plain": [
       "Box(children=(Box(children=(RadioButtons(description='condition', options=(('1F', 1), ('2F 60', 2), ('2F 90', …"
      ]
     },
     "metadata": {},
     "output_type": "display_data"
    },
    {
     "data": {
      "application/vnd.jupyter.widget-view+json": {
       "model_id": "272a8f46c2d04293a814c6f0603dffca",
       "version_major": 2,
       "version_minor": 0
      },
      "text/plain": [
       "Output()"
      ]
     },
     "metadata": {},
     "output_type": "display_data"
    }
   ],
   "source": [
    "def reversal_raster_by_dist(condition):\n",
    " \n",
    "    #Start a matrix that will host reversal distances for all flies for the condition\n",
    "    bef_rev_dist_cond = np.full((max_fly_count,max_reversal_count),0.)\n",
    "    af_rev_times_cond = np.full((max_fly_count,max_reversal_count),0.)\n",
    "    \n",
    "    \n",
    "    #Collect the reversal times for each fly into this matrix\n",
    "    num_flies = trials_per_cond[condition-1]\n",
    "    for fly in range(num_flies):\n",
    "        bef_revs_filename = 'rev_data_be/'+'RE_t_be_'+str(condition)+'_'+str(fly+1)+'.txt'\n",
    "        bef_revs_time = np.loadtxt(bef_revs_filename)\n",
    "        \n",
    "        bef_revs_dist = cumulated_distance_pre(fly+1,condition,bef_revs_time,display=False)\n",
    "        bef_rev_dist_cond[fly,:len(bef_revs_dist)] =bef_revs_dist\n",
    "#     for fly in after_fly_inds[condition-1]:\n",
    "#         af_revs_filename = 'rev_data_af/'+'RE_t_af1_'+str(condition)+'_'+str(fly)+'.txt'\n",
    "#         af_revs = np.loadtxt(af_revs_filename)\n",
    "#         af_rev_times_cond[fly-1,:len(af_revs)] = af_revs\n",
    "    \n",
    "    plt.figure(figsize=(12,4))\n",
    "    \n",
    "    ax = plt.subplot(121)\n",
    "    plt.title('Pre-Activation Reversals')\n",
    "    plt.xlim([0,10])\n",
    "    colors2 = 'black'\n",
    "    lineoffsets2 = 1\n",
    "    linelengths2 = 1        \n",
    "    ax.eventplot(bef_rev_dist_cond[::-1,:], colors=colors2, lineoffsets=lineoffsets2,\n",
    "                    linelengths=linelengths2)\n",
    "    plt.ylim([0,25])\n",
    "    plt.xlabel('Time (min)')\n",
    "    \n",
    "#     ax = plt.subplot(122)\n",
    "#     plt.title('Post-Activation Reversals')\n",
    "#     plt.xlim([50,60])\n",
    "#     colors2 = 'black'\n",
    "#     lineoffsets2 = 1\n",
    "#     linelengths2 = 1        \n",
    "#     ax.eventplot(af_rev_times_cond[::-1,:], colors=colors2, lineoffsets=lineoffsets2,\n",
    "#                     linelengths=linelengths2)\n",
    "#     plt.ylim([0,25])\n",
    "#     plt.xlabel('Time (min)')\n",
    "    \n",
    "    plt.show()\n",
    "    \n",
    "    \n",
    "    \n",
    "#start,stop,step,init\n",
    "# sm=intslider('m',3,10,1,5)\n",
    "#sfly_sample = intslider('which_fly',0,22,1,0)\n",
    "condition_toggle = widgets.RadioButtons(options=[('1F',1), ('2F 60',2),\n",
    "                                          ('2F 90',3)],disabled=False,description='condition')    \n",
    "sliders = [condition_toggle]#,sfly_sample,m]           \n",
    "items = [Box([slider]) for slider in sliders]\n",
    "\n",
    "ui = Box(items, layout=Layout(\n",
    "    display='flex',\n",
    "    flex_flow='row',\n",
    "    border='solid 2px',\n",
    "    align_items='stretch',\n",
    "    width='60%'\n",
    "))\n",
    "\n",
    "slider_names = [slider.description for slider in sliders]\n",
    "param_dict =  dict(zip(slider_names,sliders))\n",
    "\n",
    "\n",
    "out = widgets.interactive_output(reversal_raster_by_dist, param_dict)\n",
    "\n",
    "\n",
    "\n",
    "display(ui,out)\n",
    "\n"
   ]
  },
  {
   "cell_type": "code",
   "execution_count": null,
   "metadata": {},
   "outputs": [],
   "source": []
  }
 ],
 "metadata": {
  "kernelspec": {
   "display_name": "dance_jupyter_env",
   "language": "python",
   "name": "dance_jupyter_env"
  },
  "language_info": {
   "codemirror_mode": {
    "name": "ipython",
    "version": 3
   },
   "file_extension": ".py",
   "mimetype": "text/x-python",
   "name": "python",
   "nbconvert_exporter": "python",
   "pygments_lexer": "ipython3",
   "version": "3.5.2"
  }
 },
 "nbformat": 4,
 "nbformat_minor": 2
}
